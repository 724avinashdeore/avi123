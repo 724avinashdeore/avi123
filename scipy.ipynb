{
 "cells": [
  {
   "cell_type": "code",
   "execution_count": 1,
   "id": "4d83f43b-2eae-4b91-a283-610dced961df",
   "metadata": {},
   "outputs": [
    {
     "ename": "NameError",
     "evalue": "name 'hg' is not defined",
     "output_type": "error",
     "traceback": [
      "\u001b[1;31m---------------------------------------------------------------------------\u001b[0m",
      "\u001b[1;31mNameError\u001b[0m                                 Traceback (most recent call last)",
      "Cell \u001b[1;32mIn[1], line 1\u001b[0m\n\u001b[1;32m----> 1\u001b[0m \u001b[43mhg\u001b[49m\n",
      "\u001b[1;31mNameError\u001b[0m: name 'hg' is not defined"
     ]
    }
   ],
   "source": []
  },
  {
   "cell_type": "code",
   "execution_count": 3,
   "id": "45af80cc-b2a8-40c7-a4e8-5a0ee8a086d6",
   "metadata": {},
   "outputs": [
    {
     "name": "stdout",
     "output_type": "stream",
     "text": [
      "Collecting scipy\n",
      "  Downloading scipy-1.14.0-cp312-cp312-win_amd64.whl.metadata (60 kB)\n",
      "     ---------------------------------------- 0.0/60.8 kB ? eta -:--:--\n",
      "     ------ --------------------------------- 10.2/60.8 kB ? eta -:--:--\n",
      "     ------ --------------------------------- 10.2/60.8 kB ? eta -:--:--\n",
      "     ------------ ------------------------- 20.5/60.8 kB 108.9 kB/s eta 0:00:01\n",
      "     ------------ ------------------------- 20.5/60.8 kB 108.9 kB/s eta 0:00:01\n",
      "     ------------------------- ------------ 41.0/60.8 kB 150.6 kB/s eta 0:00:01\n",
      "     -------------------------------- ----- 51.2/60.8 kB 187.0 kB/s eta 0:00:01\n",
      "     -------------------------------------- 60.8/60.8 kB 189.9 kB/s eta 0:00:00\n",
      "Collecting numpy<2.3,>=1.23.5 (from scipy)\n",
      "  Downloading numpy-2.0.1-cp312-cp312-win_amd64.whl.metadata (60 kB)\n",
      "     ---------------------------------------- 0.0/60.9 kB ? eta -:--:--\n",
      "     --------------------------------- ------ 51.2/60.9 kB 1.3 MB/s eta 0:00:01\n",
      "     ---------------------------------------- 60.9/60.9 kB 1.1 MB/s eta 0:00:00\n",
      "Downloading scipy-1.14.0-cp312-cp312-win_amd64.whl (44.5 MB)\n",
      "   ---------------------------------------- 0.0/44.5 MB ? eta -:--:--\n",
      "    --------------------------------------- 1.0/44.5 MB 20.3 MB/s eta 0:00:03\n",
      "   - -------------------------------------- 1.6/44.5 MB 17.3 MB/s eta 0:00:03\n",
      "   ---- ----------------------------------- 5.3/44.5 MB 37.3 MB/s eta 0:00:02\n",
      "   ------ --------------------------------- 7.7/44.5 MB 40.7 MB/s eta 0:00:01\n",
      "   -------- ------------------------------- 9.3/44.5 MB 39.9 MB/s eta 0:00:01\n",
      "   --------- ------------------------------ 11.0/44.5 MB 43.7 MB/s eta 0:00:01\n",
      "   ---------- ----------------------------- 12.1/44.5 MB 46.7 MB/s eta 0:00:01\n",
      "   ----------- ---------------------------- 13.1/44.5 MB 38.5 MB/s eta 0:00:01\n",
      "   ------------ --------------------------- 14.0/44.5 MB 32.7 MB/s eta 0:00:01\n",
      "   ------------- -------------------------- 15.3/44.5 MB 31.2 MB/s eta 0:00:01\n",
      "   --------------- ------------------------ 17.1/44.5 MB 28.5 MB/s eta 0:00:01\n",
      "   ----------------- ---------------------- 19.2/44.5 MB 31.1 MB/s eta 0:00:01\n",
      "   ------------------ --------------------- 21.0/44.5 MB 29.7 MB/s eta 0:00:01\n",
      "   -------------------- ------------------- 23.2/44.5 MB 34.4 MB/s eta 0:00:01\n",
      "   ---------------------- ----------------- 24.9/44.5 MB 40.9 MB/s eta 0:00:01\n",
      "   ------------------------ --------------- 27.2/44.5 MB 40.9 MB/s eta 0:00:01\n",
      "   -------------------------- ------------- 29.1/44.5 MB 43.7 MB/s eta 0:00:01\n",
      "   --------------------------- ------------ 31.0/44.5 MB 40.9 MB/s eta 0:00:01\n",
      "   ----------------------------- ---------- 33.0/44.5 MB 40.9 MB/s eta 0:00:01\n",
      "   ------------------------------- -------- 34.7/44.5 MB 43.5 MB/s eta 0:00:01\n",
      "   --------------------------------- ------ 37.1/44.5 MB 40.9 MB/s eta 0:00:01\n",
      "   ----------------------------------- ---- 39.2/44.5 MB 40.9 MB/s eta 0:00:01\n",
      "   ------------------------------------ --- 41.1/44.5 MB 43.5 MB/s eta 0:00:01\n",
      "   -------------------------------------- - 43.0/44.5 MB 40.9 MB/s eta 0:00:01\n",
      "   ---------------------------------------  44.5/44.5 MB 43.7 MB/s eta 0:00:01\n",
      "   ---------------------------------------  44.5/44.5 MB 43.7 MB/s eta 0:00:01\n",
      "   ---------------------------------------  44.5/44.5 MB 43.7 MB/s eta 0:00:01\n",
      "   ---------------------------------------  44.5/44.5 MB 43.7 MB/s eta 0:00:01\n",
      "   ---------------------------------------  44.5/44.5 MB 43.7 MB/s eta 0:00:01\n",
      "   ---------------------------------------- 44.5/44.5 MB 21.1 MB/s eta 0:00:00\n",
      "Downloading numpy-2.0.1-cp312-cp312-win_amd64.whl (16.3 MB)\n",
      "   ---------------------------------------- 0.0/16.3 MB ? eta -:--:--\n",
      "   ----- ---------------------------------- 2.1/16.3 MB 46.3 MB/s eta 0:00:01\n",
      "   ---------- ----------------------------- 4.2/16.3 MB 44.6 MB/s eta 0:00:01\n",
      "   --------------- ------------------------ 6.2/16.3 MB 43.9 MB/s eta 0:00:01\n",
      "   -------------------- ------------------- 8.2/16.3 MB 43.5 MB/s eta 0:00:01\n",
      "   ------------------------ --------------- 10.1/16.3 MB 43.0 MB/s eta 0:00:01\n",
      "   ---------------------------- ----------- 11.7/16.3 MB 40.9 MB/s eta 0:00:01\n",
      "   ---------------------------------- ----- 14.1/16.3 MB 40.9 MB/s eta 0:00:01\n",
      "   -------------------------------------- - 15.8/16.3 MB 40.9 MB/s eta 0:00:01\n",
      "   ---------------------------------------  16.3/16.3 MB 40.9 MB/s eta 0:00:01\n",
      "   ---------------------------------------  16.3/16.3 MB 40.9 MB/s eta 0:00:01\n",
      "   ---------------------------------------- 16.3/16.3 MB 29.7 MB/s eta 0:00:00\n",
      "Installing collected packages: numpy, scipy\n",
      "Successfully installed numpy-2.0.1 scipy-1.14.0\n",
      "Note: you may need to restart the kernel to use updated packages.\n"
     ]
    },
    {
     "name": "stderr",
     "output_type": "stream",
     "text": [
      "\n",
      "[notice] A new release of pip is available: 24.0 -> 24.2\n",
      "[notice] To update, run: python.exe -m pip install --upgrade pip\n"
     ]
    }
   ],
   "source": [
    "pip install scipy\n"
   ]
  },
  {
   "cell_type": "code",
   "execution_count": 4,
   "id": "12ff8f4c-e871-4a20-a01b-65bad8a602f4",
   "metadata": {},
   "outputs": [
    {
     "ename": "ModuleNotFoundError",
     "evalue": "No module named 'pandas'",
     "output_type": "error",
     "traceback": [
      "\u001b[1;31m---------------------------------------------------------------------------\u001b[0m",
      "\u001b[1;31mModuleNotFoundError\u001b[0m                       Traceback (most recent call last)",
      "Cell \u001b[1;32mIn[4], line 2\u001b[0m\n\u001b[0;32m      1\u001b[0m \u001b[38;5;28;01mimport\u001b[39;00m \u001b[38;5;21;01mnumpy\u001b[39;00m \u001b[38;5;28;01mas\u001b[39;00m \u001b[38;5;21;01mnp\u001b[39;00m \n\u001b[1;32m----> 2\u001b[0m \u001b[38;5;28;01mimport\u001b[39;00m \u001b[38;5;21;01mpandas\u001b[39;00m \u001b[38;5;28;01mas\u001b[39;00m \u001b[38;5;21;01mpd\u001b[39;00m\n\u001b[0;32m      3\u001b[0m \u001b[38;5;28;01mfrom\u001b[39;00m \u001b[38;5;21;01mscipy\u001b[39;00m \u001b[38;5;28;01mimport\u001b[39;00m stats\n",
      "\u001b[1;31mModuleNotFoundError\u001b[0m: No module named 'pandas'"
     ]
    }
   ],
   "source": [
    "import numpy as np \n",
    "import pandas as pd\n",
    "from scipy import stats"
   ]
  },
  {
   "cell_type": "code",
   "execution_count": 5,
   "id": "3063b324-ce6d-402f-bfd6-cb4d33ad4c6c",
   "metadata": {},
   "outputs": [
    {
     "ename": "SyntaxError",
     "evalue": "invalid syntax (2856326376.py, line 1)",
     "output_type": "error",
     "traceback": [
      "\u001b[1;36m  Cell \u001b[1;32mIn[5], line 1\u001b[1;36m\u001b[0m\n\u001b[1;33m    install pandas\u001b[0m\n\u001b[1;37m            ^\u001b[0m\n\u001b[1;31mSyntaxError\u001b[0m\u001b[1;31m:\u001b[0m invalid syntax\n"
     ]
    }
   ],
   "source": []
  },
  {
   "cell_type": "code",
   "execution_count": 6,
   "id": "9b6e044b-09d3-4257-a85e-5ea26bab4a22",
   "metadata": {},
   "outputs": [],
   "source": [
    "from scipy import stats"
   ]
  },
  {
   "cell_type": "code",
   "execution_count": 9,
   "id": "d1c1bfcf-c4ba-4651-9780-de8f4dd9e883",
   "metadata": {},
   "outputs": [
    {
     "name": "stdout",
     "output_type": "stream",
     "text": [
      "Requirement already satisfied: pandas in c:\\users\\dell\\appdata\\local\\programs\\python\\python312\\lib\\site-packages (2.2.2)\n",
      "Requirement already satisfied: numpy>=1.26.0 in c:\\users\\dell\\appdata\\local\\programs\\python\\python312\\lib\\site-packages (from pandas) (2.0.1)\n",
      "Requirement already satisfied: python-dateutil>=2.8.2 in c:\\users\\dell\\appdata\\local\\programs\\python\\python312\\lib\\site-packages (from pandas) (2.9.0.post0)\n",
      "Requirement already satisfied: pytz>=2020.1 in c:\\users\\dell\\appdata\\local\\programs\\python\\python312\\lib\\site-packages (from pandas) (2024.1)\n",
      "Requirement already satisfied: tzdata>=2022.7 in c:\\users\\dell\\appdata\\local\\programs\\python\\python312\\lib\\site-packages (from pandas) (2024.1)\n",
      "Requirement already satisfied: six>=1.5 in c:\\users\\dell\\appdata\\local\\programs\\python\\python312\\lib\\site-packages (from python-dateutil>=2.8.2->pandas) (1.16.0)\n",
      "Note: you may need to restart the kernel to use updated packages.\n"
     ]
    },
    {
     "name": "stderr",
     "output_type": "stream",
     "text": [
      "\n",
      "[notice] A new release of pip is available: 24.0 -> 24.2\n",
      "[notice] To update, run: python.exe -m pip install --upgrade pip\n"
     ]
    }
   ],
   "source": []
  },
  {
   "cell_type": "code",
   "execution_count": 10,
   "id": "ca45e2d0-2f44-4632-9d50-e8e2f395ded8",
   "metadata": {},
   "outputs": [],
   "source": [
    "import numpy as np\n",
    "import pandas as pd\n",
    "from scipy import stats"
   ]
  },
  {
   "cell_type": "code",
   "execution_count": 11,
   "id": "e2b3195b-4e5a-43b4-92f5-4cb818143832",
   "metadata": {},
   "outputs": [],
   "source": [
    "x=73\n",
    "mu=70\n",
    "std=4\n",
    "n=19"
   ]
  },
  {
   "cell_type": "code",
   "execution_count": null,
   "id": "59bf6d6b-7f21-40ad-8587-9eab650caf1f",
   "metadata": {},
   "outputs": [],
   "source": [
    "data= np.random.normal(73,4,19)"
   ]
  }
 ],
 "metadata": {
  "kernelspec": {
   "display_name": "Python 3 (ipykernel)",
   "language": "python",
   "name": "python3"
  },
  "language_info": {
   "codemirror_mode": {
    "name": "ipython",
    "version": 3
   },
   "file_extension": ".py",
   "mimetype": "text/x-python",
   "name": "python",
   "nbconvert_exporter": "python",
   "pygments_lexer": "ipython3",
   "version": "3.12.3"
  }
 },
 "nbformat": 4,
 "nbformat_minor": 5
}
