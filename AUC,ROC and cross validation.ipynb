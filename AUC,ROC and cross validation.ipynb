{
 "cells": [
  {
   "cell_type": "code",
   "execution_count": 1,
   "id": "82fbac62-9199-4202-b206-eb8647425a36",
   "metadata": {},
   "outputs": [],
   "source": [
    "import numpy as np\n",
    "import pandas as pd\n",
    "import matplotlib.pyplot as plt\n",
    "import seaborn as sns\n",
    "\n",
    "from sklearn.linear_model import LogisticRegression\n",
    "from sklearn.model_selection import train_test_split, cross_val_score, KFold \n",
    "from sklearn.metrics import accuracy_score, classification_report, confusion_matrix\n",
    "from sklearn.metrics import roc_auc_score, roc_curve\n",
    "from sklearn.datasets import make_classification\n",
    "\n",
    "import warnings\n",
    "warnings.filterwarnings(\"ignore\")"
   ]
  },
  {
   "cell_type": "code",
   "execution_count": 2,
   "id": "f680454d-6d7f-41ae-bf65-e77bfb250cd0",
   "metadata": {},
   "outputs": [],
   "source": [
    "X, y = make_classification(n_classes=2, n_samples=1000, n_features=10, n_informative=7)"
   ]
  },
  {
   "cell_type": "code",
   "execution_count": 3,
   "id": "010ce6b9-a761-4884-8b5a-fe8365b566e0",
   "metadata": {},
   "outputs": [],
   "source": [
    "X_tr, X_te, y_tr, y_te = train_test_split(X, y, train_size=0.7, random_state=245)"
   ]
  },
  {
   "cell_type": "code",
   "execution_count": 4,
   "id": "4300b35c-7c7e-4672-add3-50d13f52576e",
   "metadata": {},
   "outputs": [],
   "source": [
    "model = LogisticRegression()"
   ]
  },
  {
   "cell_type": "code",
   "execution_count": 5,
   "id": "52209c86-5948-4605-b2fb-eef7840e9be9",
   "metadata": {},
   "outputs": [
    {
     "data": {
      "text/html": [
       "<style>#sk-container-id-1 {\n",
       "  /* Definition of color scheme common for light and dark mode */\n",
       "  --sklearn-color-text: black;\n",
       "  --sklearn-color-line: gray;\n",
       "  /* Definition of color scheme for unfitted estimators */\n",
       "  --sklearn-color-unfitted-level-0: #fff5e6;\n",
       "  --sklearn-color-unfitted-level-1: #f6e4d2;\n",
       "  --sklearn-color-unfitted-level-2: #ffe0b3;\n",
       "  --sklearn-color-unfitted-level-3: chocolate;\n",
       "  /* Definition of color scheme for fitted estimators */\n",
       "  --sklearn-color-fitted-level-0: #f0f8ff;\n",
       "  --sklearn-color-fitted-level-1: #d4ebff;\n",
       "  --sklearn-color-fitted-level-2: #b3dbfd;\n",
       "  --sklearn-color-fitted-level-3: cornflowerblue;\n",
       "\n",
       "  /* Specific color for light theme */\n",
       "  --sklearn-color-text-on-default-background: var(--sg-text-color, var(--theme-code-foreground, var(--jp-content-font-color1, black)));\n",
       "  --sklearn-color-background: var(--sg-background-color, var(--theme-background, var(--jp-layout-color0, white)));\n",
       "  --sklearn-color-border-box: var(--sg-text-color, var(--theme-code-foreground, var(--jp-content-font-color1, black)));\n",
       "  --sklearn-color-icon: #696969;\n",
       "\n",
       "  @media (prefers-color-scheme: dark) {\n",
       "    /* Redefinition of color scheme for dark theme */\n",
       "    --sklearn-color-text-on-default-background: var(--sg-text-color, var(--theme-code-foreground, var(--jp-content-font-color1, white)));\n",
       "    --sklearn-color-background: var(--sg-background-color, var(--theme-background, var(--jp-layout-color0, #111)));\n",
       "    --sklearn-color-border-box: var(--sg-text-color, var(--theme-code-foreground, var(--jp-content-font-color1, white)));\n",
       "    --sklearn-color-icon: #878787;\n",
       "  }\n",
       "}\n",
       "\n",
       "#sk-container-id-1 {\n",
       "  color: var(--sklearn-color-text);\n",
       "}\n",
       "\n",
       "#sk-container-id-1 pre {\n",
       "  padding: 0;\n",
       "}\n",
       "\n",
       "#sk-container-id-1 input.sk-hidden--visually {\n",
       "  border: 0;\n",
       "  clip: rect(1px 1px 1px 1px);\n",
       "  clip: rect(1px, 1px, 1px, 1px);\n",
       "  height: 1px;\n",
       "  margin: -1px;\n",
       "  overflow: hidden;\n",
       "  padding: 0;\n",
       "  position: absolute;\n",
       "  width: 1px;\n",
       "}\n",
       "\n",
       "#sk-container-id-1 div.sk-dashed-wrapped {\n",
       "  border: 1px dashed var(--sklearn-color-line);\n",
       "  margin: 0 0.4em 0.5em 0.4em;\n",
       "  box-sizing: border-box;\n",
       "  padding-bottom: 0.4em;\n",
       "  background-color: var(--sklearn-color-background);\n",
       "}\n",
       "\n",
       "#sk-container-id-1 div.sk-container {\n",
       "  /* jupyter's `normalize.less` sets `[hidden] { display: none; }`\n",
       "     but bootstrap.min.css set `[hidden] { display: none !important; }`\n",
       "     so we also need the `!important` here to be able to override the\n",
       "     default hidden behavior on the sphinx rendered scikit-learn.org.\n",
       "     See: https://github.com/scikit-learn/scikit-learn/issues/21755 */\n",
       "  display: inline-block !important;\n",
       "  position: relative;\n",
       "}\n",
       "\n",
       "#sk-container-id-1 div.sk-text-repr-fallback {\n",
       "  display: none;\n",
       "}\n",
       "\n",
       "div.sk-parallel-item,\n",
       "div.sk-serial,\n",
       "div.sk-item {\n",
       "  /* draw centered vertical line to link estimators */\n",
       "  background-image: linear-gradient(var(--sklearn-color-text-on-default-background), var(--sklearn-color-text-on-default-background));\n",
       "  background-size: 2px 100%;\n",
       "  background-repeat: no-repeat;\n",
       "  background-position: center center;\n",
       "}\n",
       "\n",
       "/* Parallel-specific style estimator block */\n",
       "\n",
       "#sk-container-id-1 div.sk-parallel-item::after {\n",
       "  content: \"\";\n",
       "  width: 100%;\n",
       "  border-bottom: 2px solid var(--sklearn-color-text-on-default-background);\n",
       "  flex-grow: 1;\n",
       "}\n",
       "\n",
       "#sk-container-id-1 div.sk-parallel {\n",
       "  display: flex;\n",
       "  align-items: stretch;\n",
       "  justify-content: center;\n",
       "  background-color: var(--sklearn-color-background);\n",
       "  position: relative;\n",
       "}\n",
       "\n",
       "#sk-container-id-1 div.sk-parallel-item {\n",
       "  display: flex;\n",
       "  flex-direction: column;\n",
       "}\n",
       "\n",
       "#sk-container-id-1 div.sk-parallel-item:first-child::after {\n",
       "  align-self: flex-end;\n",
       "  width: 50%;\n",
       "}\n",
       "\n",
       "#sk-container-id-1 div.sk-parallel-item:last-child::after {\n",
       "  align-self: flex-start;\n",
       "  width: 50%;\n",
       "}\n",
       "\n",
       "#sk-container-id-1 div.sk-parallel-item:only-child::after {\n",
       "  width: 0;\n",
       "}\n",
       "\n",
       "/* Serial-specific style estimator block */\n",
       "\n",
       "#sk-container-id-1 div.sk-serial {\n",
       "  display: flex;\n",
       "  flex-direction: column;\n",
       "  align-items: center;\n",
       "  background-color: var(--sklearn-color-background);\n",
       "  padding-right: 1em;\n",
       "  padding-left: 1em;\n",
       "}\n",
       "\n",
       "\n",
       "/* Toggleable style: style used for estimator/Pipeline/ColumnTransformer box that is\n",
       "clickable and can be expanded/collapsed.\n",
       "- Pipeline and ColumnTransformer use this feature and define the default style\n",
       "- Estimators will overwrite some part of the style using the `sk-estimator` class\n",
       "*/\n",
       "\n",
       "/* Pipeline and ColumnTransformer style (default) */\n",
       "\n",
       "#sk-container-id-1 div.sk-toggleable {\n",
       "  /* Default theme specific background. It is overwritten whether we have a\n",
       "  specific estimator or a Pipeline/ColumnTransformer */\n",
       "  background-color: var(--sklearn-color-background);\n",
       "}\n",
       "\n",
       "/* Toggleable label */\n",
       "#sk-container-id-1 label.sk-toggleable__label {\n",
       "  cursor: pointer;\n",
       "  display: block;\n",
       "  width: 100%;\n",
       "  margin-bottom: 0;\n",
       "  padding: 0.5em;\n",
       "  box-sizing: border-box;\n",
       "  text-align: center;\n",
       "}\n",
       "\n",
       "#sk-container-id-1 label.sk-toggleable__label-arrow:before {\n",
       "  /* Arrow on the left of the label */\n",
       "  content: \"▸\";\n",
       "  float: left;\n",
       "  margin-right: 0.25em;\n",
       "  color: var(--sklearn-color-icon);\n",
       "}\n",
       "\n",
       "#sk-container-id-1 label.sk-toggleable__label-arrow:hover:before {\n",
       "  color: var(--sklearn-color-text);\n",
       "}\n",
       "\n",
       "/* Toggleable content - dropdown */\n",
       "\n",
       "#sk-container-id-1 div.sk-toggleable__content {\n",
       "  max-height: 0;\n",
       "  max-width: 0;\n",
       "  overflow: hidden;\n",
       "  text-align: left;\n",
       "  /* unfitted */\n",
       "  background-color: var(--sklearn-color-unfitted-level-0);\n",
       "}\n",
       "\n",
       "#sk-container-id-1 div.sk-toggleable__content.fitted {\n",
       "  /* fitted */\n",
       "  background-color: var(--sklearn-color-fitted-level-0);\n",
       "}\n",
       "\n",
       "#sk-container-id-1 div.sk-toggleable__content pre {\n",
       "  margin: 0.2em;\n",
       "  border-radius: 0.25em;\n",
       "  color: var(--sklearn-color-text);\n",
       "  /* unfitted */\n",
       "  background-color: var(--sklearn-color-unfitted-level-0);\n",
       "}\n",
       "\n",
       "#sk-container-id-1 div.sk-toggleable__content.fitted pre {\n",
       "  /* unfitted */\n",
       "  background-color: var(--sklearn-color-fitted-level-0);\n",
       "}\n",
       "\n",
       "#sk-container-id-1 input.sk-toggleable__control:checked~div.sk-toggleable__content {\n",
       "  /* Expand drop-down */\n",
       "  max-height: 200px;\n",
       "  max-width: 100%;\n",
       "  overflow: auto;\n",
       "}\n",
       "\n",
       "#sk-container-id-1 input.sk-toggleable__control:checked~label.sk-toggleable__label-arrow:before {\n",
       "  content: \"▾\";\n",
       "}\n",
       "\n",
       "/* Pipeline/ColumnTransformer-specific style */\n",
       "\n",
       "#sk-container-id-1 div.sk-label input.sk-toggleable__control:checked~label.sk-toggleable__label {\n",
       "  color: var(--sklearn-color-text);\n",
       "  background-color: var(--sklearn-color-unfitted-level-2);\n",
       "}\n",
       "\n",
       "#sk-container-id-1 div.sk-label.fitted input.sk-toggleable__control:checked~label.sk-toggleable__label {\n",
       "  background-color: var(--sklearn-color-fitted-level-2);\n",
       "}\n",
       "\n",
       "/* Estimator-specific style */\n",
       "\n",
       "/* Colorize estimator box */\n",
       "#sk-container-id-1 div.sk-estimator input.sk-toggleable__control:checked~label.sk-toggleable__label {\n",
       "  /* unfitted */\n",
       "  background-color: var(--sklearn-color-unfitted-level-2);\n",
       "}\n",
       "\n",
       "#sk-container-id-1 div.sk-estimator.fitted input.sk-toggleable__control:checked~label.sk-toggleable__label {\n",
       "  /* fitted */\n",
       "  background-color: var(--sklearn-color-fitted-level-2);\n",
       "}\n",
       "\n",
       "#sk-container-id-1 div.sk-label label.sk-toggleable__label,\n",
       "#sk-container-id-1 div.sk-label label {\n",
       "  /* The background is the default theme color */\n",
       "  color: var(--sklearn-color-text-on-default-background);\n",
       "}\n",
       "\n",
       "/* On hover, darken the color of the background */\n",
       "#sk-container-id-1 div.sk-label:hover label.sk-toggleable__label {\n",
       "  color: var(--sklearn-color-text);\n",
       "  background-color: var(--sklearn-color-unfitted-level-2);\n",
       "}\n",
       "\n",
       "/* Label box, darken color on hover, fitted */\n",
       "#sk-container-id-1 div.sk-label.fitted:hover label.sk-toggleable__label.fitted {\n",
       "  color: var(--sklearn-color-text);\n",
       "  background-color: var(--sklearn-color-fitted-level-2);\n",
       "}\n",
       "\n",
       "/* Estimator label */\n",
       "\n",
       "#sk-container-id-1 div.sk-label label {\n",
       "  font-family: monospace;\n",
       "  font-weight: bold;\n",
       "  display: inline-block;\n",
       "  line-height: 1.2em;\n",
       "}\n",
       "\n",
       "#sk-container-id-1 div.sk-label-container {\n",
       "  text-align: center;\n",
       "}\n",
       "\n",
       "/* Estimator-specific */\n",
       "#sk-container-id-1 div.sk-estimator {\n",
       "  font-family: monospace;\n",
       "  border: 1px dotted var(--sklearn-color-border-box);\n",
       "  border-radius: 0.25em;\n",
       "  box-sizing: border-box;\n",
       "  margin-bottom: 0.5em;\n",
       "  /* unfitted */\n",
       "  background-color: var(--sklearn-color-unfitted-level-0);\n",
       "}\n",
       "\n",
       "#sk-container-id-1 div.sk-estimator.fitted {\n",
       "  /* fitted */\n",
       "  background-color: var(--sklearn-color-fitted-level-0);\n",
       "}\n",
       "\n",
       "/* on hover */\n",
       "#sk-container-id-1 div.sk-estimator:hover {\n",
       "  /* unfitted */\n",
       "  background-color: var(--sklearn-color-unfitted-level-2);\n",
       "}\n",
       "\n",
       "#sk-container-id-1 div.sk-estimator.fitted:hover {\n",
       "  /* fitted */\n",
       "  background-color: var(--sklearn-color-fitted-level-2);\n",
       "}\n",
       "\n",
       "/* Specification for estimator info (e.g. \"i\" and \"?\") */\n",
       "\n",
       "/* Common style for \"i\" and \"?\" */\n",
       "\n",
       ".sk-estimator-doc-link,\n",
       "a:link.sk-estimator-doc-link,\n",
       "a:visited.sk-estimator-doc-link {\n",
       "  float: right;\n",
       "  font-size: smaller;\n",
       "  line-height: 1em;\n",
       "  font-family: monospace;\n",
       "  background-color: var(--sklearn-color-background);\n",
       "  border-radius: 1em;\n",
       "  height: 1em;\n",
       "  width: 1em;\n",
       "  text-decoration: none !important;\n",
       "  margin-left: 1ex;\n",
       "  /* unfitted */\n",
       "  border: var(--sklearn-color-unfitted-level-1) 1pt solid;\n",
       "  color: var(--sklearn-color-unfitted-level-1);\n",
       "}\n",
       "\n",
       ".sk-estimator-doc-link.fitted,\n",
       "a:link.sk-estimator-doc-link.fitted,\n",
       "a:visited.sk-estimator-doc-link.fitted {\n",
       "  /* fitted */\n",
       "  border: var(--sklearn-color-fitted-level-1) 1pt solid;\n",
       "  color: var(--sklearn-color-fitted-level-1);\n",
       "}\n",
       "\n",
       "/* On hover */\n",
       "div.sk-estimator:hover .sk-estimator-doc-link:hover,\n",
       ".sk-estimator-doc-link:hover,\n",
       "div.sk-label-container:hover .sk-estimator-doc-link:hover,\n",
       ".sk-estimator-doc-link:hover {\n",
       "  /* unfitted */\n",
       "  background-color: var(--sklearn-color-unfitted-level-3);\n",
       "  color: var(--sklearn-color-background);\n",
       "  text-decoration: none;\n",
       "}\n",
       "\n",
       "div.sk-estimator.fitted:hover .sk-estimator-doc-link.fitted:hover,\n",
       ".sk-estimator-doc-link.fitted:hover,\n",
       "div.sk-label-container:hover .sk-estimator-doc-link.fitted:hover,\n",
       ".sk-estimator-doc-link.fitted:hover {\n",
       "  /* fitted */\n",
       "  background-color: var(--sklearn-color-fitted-level-3);\n",
       "  color: var(--sklearn-color-background);\n",
       "  text-decoration: none;\n",
       "}\n",
       "\n",
       "/* Span, style for the box shown on hovering the info icon */\n",
       ".sk-estimator-doc-link span {\n",
       "  display: none;\n",
       "  z-index: 9999;\n",
       "  position: relative;\n",
       "  font-weight: normal;\n",
       "  right: .2ex;\n",
       "  padding: .5ex;\n",
       "  margin: .5ex;\n",
       "  width: min-content;\n",
       "  min-width: 20ex;\n",
       "  max-width: 50ex;\n",
       "  color: var(--sklearn-color-text);\n",
       "  box-shadow: 2pt 2pt 4pt #999;\n",
       "  /* unfitted */\n",
       "  background: var(--sklearn-color-unfitted-level-0);\n",
       "  border: .5pt solid var(--sklearn-color-unfitted-level-3);\n",
       "}\n",
       "\n",
       ".sk-estimator-doc-link.fitted span {\n",
       "  /* fitted */\n",
       "  background: var(--sklearn-color-fitted-level-0);\n",
       "  border: var(--sklearn-color-fitted-level-3);\n",
       "}\n",
       "\n",
       ".sk-estimator-doc-link:hover span {\n",
       "  display: block;\n",
       "}\n",
       "\n",
       "/* \"?\"-specific style due to the `<a>` HTML tag */\n",
       "\n",
       "#sk-container-id-1 a.estimator_doc_link {\n",
       "  float: right;\n",
       "  font-size: 1rem;\n",
       "  line-height: 1em;\n",
       "  font-family: monospace;\n",
       "  background-color: var(--sklearn-color-background);\n",
       "  border-radius: 1rem;\n",
       "  height: 1rem;\n",
       "  width: 1rem;\n",
       "  text-decoration: none;\n",
       "  /* unfitted */\n",
       "  color: var(--sklearn-color-unfitted-level-1);\n",
       "  border: var(--sklearn-color-unfitted-level-1) 1pt solid;\n",
       "}\n",
       "\n",
       "#sk-container-id-1 a.estimator_doc_link.fitted {\n",
       "  /* fitted */\n",
       "  border: var(--sklearn-color-fitted-level-1) 1pt solid;\n",
       "  color: var(--sklearn-color-fitted-level-1);\n",
       "}\n",
       "\n",
       "/* On hover */\n",
       "#sk-container-id-1 a.estimator_doc_link:hover {\n",
       "  /* unfitted */\n",
       "  background-color: var(--sklearn-color-unfitted-level-3);\n",
       "  color: var(--sklearn-color-background);\n",
       "  text-decoration: none;\n",
       "}\n",
       "\n",
       "#sk-container-id-1 a.estimator_doc_link.fitted:hover {\n",
       "  /* fitted */\n",
       "  background-color: var(--sklearn-color-fitted-level-3);\n",
       "}\n",
       "</style><div id=\"sk-container-id-1\" class=\"sk-top-container\"><div class=\"sk-text-repr-fallback\"><pre>LogisticRegression()</pre><b>In a Jupyter environment, please rerun this cell to show the HTML representation or trust the notebook. <br />On GitHub, the HTML representation is unable to render, please try loading this page with nbviewer.org.</b></div><div class=\"sk-container\" hidden><div class=\"sk-item\"><div class=\"sk-estimator fitted sk-toggleable\"><input class=\"sk-toggleable__control sk-hidden--visually\" id=\"sk-estimator-id-1\" type=\"checkbox\" checked><label for=\"sk-estimator-id-1\" class=\"sk-toggleable__label fitted sk-toggleable__label-arrow fitted\">&nbsp;&nbsp;LogisticRegression<a class=\"sk-estimator-doc-link fitted\" rel=\"noreferrer\" target=\"_blank\" href=\"https://scikit-learn.org/1.5/modules/generated/sklearn.linear_model.LogisticRegression.html\">?<span>Documentation for LogisticRegression</span></a><span class=\"sk-estimator-doc-link fitted\">i<span>Fitted</span></span></label><div class=\"sk-toggleable__content fitted\"><pre>LogisticRegression()</pre></div> </div></div></div></div>"
      ],
      "text/plain": [
       "LogisticRegression()"
      ]
     },
     "execution_count": 5,
     "metadata": {},
     "output_type": "execute_result"
    }
   ],
   "source": [
    "model.fit(X_tr, y_tr)"
   ]
  },
  {
   "cell_type": "code",
   "execution_count": 6,
   "id": "c465a449-797d-4fcb-ae6b-d510f5849253",
   "metadata": {},
   "outputs": [],
   "source": [
    "y_pr = model.predict(X_te)"
   ]
  },
  {
   "cell_type": "code",
   "execution_count": 7,
   "id": "e19cf1da-714d-4a90-abfc-99f292fb63af",
   "metadata": {},
   "outputs": [
    {
     "data": {
      "text/plain": [
       "0.77"
      ]
     },
     "execution_count": 7,
     "metadata": {},
     "output_type": "execute_result"
    }
   ],
   "source": [
    "accuracy_score(y_te, y_pr)"
   ]
  },
  {
   "cell_type": "code",
   "execution_count": 8,
   "id": "b24e4e3a-ed0f-454f-93fc-4238f52ff1de",
   "metadata": {},
   "outputs": [
    {
     "name": "stdout",
     "output_type": "stream",
     "text": [
      "              precision    recall  f1-score   support\n",
      "\n",
      "           0       0.76      0.72      0.74       138\n",
      "           1       0.78      0.81      0.79       162\n",
      "\n",
      "    accuracy                           0.77       300\n",
      "   macro avg       0.77      0.77      0.77       300\n",
      "weighted avg       0.77      0.77      0.77       300\n",
      "\n"
     ]
    }
   ],
   "source": [
    "print(classification_report(y_te, y_pr))"
   ]
  },
  {
   "cell_type": "code",
   "execution_count": 9,
   "id": "61e52495-3da8-4057-8ef3-cf065e9027de",
   "metadata": {},
   "outputs": [
    {
     "data": {
      "text/plain": [
       "array([[100,  38],\n",
       "       [ 31, 131]])"
      ]
     },
     "execution_count": 9,
     "metadata": {},
     "output_type": "execute_result"
    }
   ],
   "source": [
    "confusion_matrix(y_te, y_pr)"
   ]
  },
  {
   "cell_type": "code",
   "execution_count": 10,
   "id": "4a4ac3e9-2688-4576-82f5-07a309afb75e",
   "metadata": {},
   "outputs": [],
   "source": [
    "y_prob = model.predict_proba(X_te)[:, 1]"
   ]
  },
  {
   "cell_type": "code",
   "execution_count": 11,
   "id": "5cbce141-4df1-4e2e-837e-348a37861a7a",
   "metadata": {},
   "outputs": [
    {
     "data": {
      "text/plain": [
       "array([0.83818286, 0.05565526, 0.98846046, 0.42170449, 0.81629122,\n",
       "       0.60798716, 0.78058195, 0.15800615, 0.6719508 , 0.33827242,\n",
       "       0.61042928, 0.5970741 , 0.86635267, 0.06824928, 0.90150249,\n",
       "       0.75203695, 0.3156795 , 0.36042001, 0.67206064, 0.28558526,\n",
       "       0.29620423, 0.97695847, 0.83725179, 0.6005242 , 0.76154921,\n",
       "       0.97000687, 0.23483222, 0.41638694, 0.62717937, 0.71740844,\n",
       "       0.62512918, 0.34282024, 0.77360068, 0.33926364, 0.68576276,\n",
       "       0.27815955, 0.0317851 , 0.77099621, 0.17216766, 0.79649512,\n",
       "       0.55008112, 0.38819659, 0.68934176, 0.20408932, 0.73545544,\n",
       "       0.98302381, 0.53624695, 0.20051917, 0.89350466, 0.05866761,\n",
       "       0.11336044, 0.14090799, 0.97167769, 0.10257441, 0.24424196,\n",
       "       0.71798486, 0.39638413, 0.42451908, 0.84030846, 0.13137199,\n",
       "       0.27055218, 0.19596208, 0.74532473, 0.97236373, 0.60281048,\n",
       "       0.79622841, 0.22353684, 0.41015615, 0.43269001, 0.37078932,\n",
       "       0.09743885, 0.64565406, 0.5439067 , 0.17749699, 0.87385696,\n",
       "       0.83940868, 0.43285762, 0.17283155, 0.86287711, 0.16226175,\n",
       "       0.56629209, 0.50198841, 0.09984443, 0.0966114 , 0.46748039,\n",
       "       0.05015905, 0.95465309, 0.04260562, 0.73822035, 0.20891696,\n",
       "       0.87025565, 0.75625942, 0.31098012, 0.55774411, 0.73308711,\n",
       "       0.81884628, 0.11262979, 0.6582198 , 0.99509291, 0.67900685,\n",
       "       0.6565783 , 0.67579298, 0.22652657, 0.86096884, 0.24710209,\n",
       "       0.21170716, 0.67415156, 0.53710278, 0.28541312, 0.41028861,\n",
       "       0.91388608, 0.7634624 , 0.12084415, 0.05878211, 0.64391012,\n",
       "       0.74475943, 0.27091343, 0.84598637, 0.80144958, 0.68194505,\n",
       "       0.61616994, 0.41799588, 0.69332133, 0.76362045, 0.19880743,\n",
       "       0.56816496, 0.63196035, 0.51686026, 0.14692832, 0.2557836 ,\n",
       "       0.78927174, 0.8333243 , 0.59345624, 0.6072055 , 0.82131857,\n",
       "       0.65030722, 0.77586138, 0.35045752, 0.73396817, 0.67866433,\n",
       "       0.91779785, 0.21012608, 0.99519151, 0.723582  , 0.38542939,\n",
       "       0.05149249, 0.700626  , 0.13223636, 0.90049659, 0.35814944,\n",
       "       0.34589353, 0.94165083, 0.67201943, 0.76534593, 0.30679032,\n",
       "       0.57365352, 0.89281976, 0.7246149 , 0.93753646, 0.21284999,\n",
       "       0.83383351, 0.33988115, 0.81395844, 0.24343766, 0.79269907,\n",
       "       0.48505375, 0.70009816, 0.86328752, 0.04575338, 0.17123487,\n",
       "       0.86998283, 0.10778235, 0.69470657, 0.70582166, 0.30874034,\n",
       "       0.68255278, 0.92021363, 0.6026646 , 0.34011263, 0.50151781,\n",
       "       0.7290836 , 0.86921748, 0.51936315, 0.81977865, 0.97920922,\n",
       "       0.75182239, 0.12890383, 0.97954554, 0.54820884, 0.05285397,\n",
       "       0.7257019 , 0.44964426, 0.46404591, 0.50520597, 0.13660114,\n",
       "       0.06165027, 0.33544361, 0.19583921, 0.98389632, 0.85549048,\n",
       "       0.69781234, 0.42322007, 0.44771919, 0.34920285, 0.3613143 ,\n",
       "       0.96046598, 0.12938829, 0.54249415, 0.71146005, 0.48436892,\n",
       "       0.27918001, 0.03895398, 0.2397652 , 0.61716535, 0.09923172,\n",
       "       0.70358759, 0.46201213, 0.1548654 , 0.95608072, 0.66373169,\n",
       "       0.74814284, 0.33451158, 0.90668847, 0.96540024, 0.60954591,\n",
       "       0.26260698, 0.31174133, 0.59475998, 0.37075357, 0.27272914,\n",
       "       0.94459391, 0.88298198, 0.05141075, 0.41825641, 0.70988364,\n",
       "       0.62060488, 0.38660835, 0.47726048, 0.71071996, 0.74471363,\n",
       "       0.27565362, 0.26542451, 0.65864824, 0.56396103, 0.23218743,\n",
       "       0.65891935, 0.78798681, 0.77112631, 0.7542049 , 0.36396283,\n",
       "       0.19102701, 0.41431638, 0.98180372, 0.19188799, 0.11719961,\n",
       "       0.28103152, 0.87282836, 0.71915091, 0.81472218, 0.38001475,\n",
       "       0.65216551, 0.27989296, 0.55661616, 0.31484192, 0.91485252,\n",
       "       0.9834934 , 0.91268294, 0.78670712, 0.54805363, 0.15435541,\n",
       "       0.20025092, 0.73740231, 0.71165907, 0.11989607, 0.15347644,\n",
       "       0.74558368, 0.19277593, 0.52353868, 0.26675009, 0.70479939,\n",
       "       0.95155027, 0.9406621 , 0.63148598, 0.35839288, 0.17929703,\n",
       "       0.66070453, 0.62743704, 0.59416598, 0.27404089, 0.97607967,\n",
       "       0.46236293, 0.22782975, 0.45171743, 0.60241968, 0.75603923,\n",
       "       0.09808896, 0.0999967 , 0.74584711, 0.68442963, 0.04138948])"
      ]
     },
     "execution_count": 11,
     "metadata": {},
     "output_type": "execute_result"
    }
   ],
   "source": [
    "y_prob"
   ]
  },
  {
   "cell_type": "code",
   "execution_count": 12,
   "id": "863d2afc-9467-4bd8-ad8e-6d7d0c8a873f",
   "metadata": {},
   "outputs": [],
   "source": [
    "fpr, tpr, threshold = roc_curve(y_te, y_prob)\n",
    "\n"
   ]
  },
  {
   "cell_type": "code",
   "execution_count": 13,
   "id": "8414c9e6-f035-412d-bc23-65d81e701e6f",
   "metadata": {},
   "outputs": [
    {
     "data": {
      "text/plain": [
       "(array([0.        , 0.        , 0.        , 0.00724638, 0.00724638,\n",
       "        0.01449275, 0.01449275, 0.02173913, 0.02173913, 0.02898551,\n",
       "        0.02898551, 0.03623188, 0.03623188, 0.04347826, 0.04347826,\n",
       "        0.05072464, 0.05072464, 0.05797101, 0.05797101, 0.07246377,\n",
       "        0.07246377, 0.07971014, 0.07971014, 0.0942029 , 0.0942029 ,\n",
       "        0.10144928, 0.10144928, 0.10869565, 0.10869565, 0.11594203,\n",
       "        0.11594203, 0.14492754, 0.14492754, 0.15217391, 0.15217391,\n",
       "        0.17391304, 0.17391304, 0.18115942, 0.18115942, 0.19565217,\n",
       "        0.19565217, 0.20289855, 0.20289855, 0.2173913 , 0.2173913 ,\n",
       "        0.23188406, 0.23188406, 0.24637681, 0.24637681, 0.26086957,\n",
       "        0.26086957, 0.26811594, 0.26811594, 0.27536232, 0.27536232,\n",
       "        0.29710145, 0.29710145, 0.3115942 , 0.3115942 , 0.31884058,\n",
       "        0.31884058, 0.32608696, 0.32608696, 0.34057971, 0.34057971,\n",
       "        0.34782609, 0.34782609, 0.37681159, 0.37681159, 0.38405797,\n",
       "        0.38405797, 0.39130435, 0.39130435, 0.39855072, 0.39855072,\n",
       "        0.41304348, 0.41304348, 0.44927536, 0.44927536, 0.46376812,\n",
       "        0.46376812, 0.51449275, 0.51449275, 0.52173913, 0.52173913,\n",
       "        0.52898551, 0.52898551, 0.63768116, 0.63768116, 0.64492754,\n",
       "        0.64492754, 0.65217391, 0.65217391, 0.86956522, 0.86956522,\n",
       "        1.        ]),\n",
       " array([0.        , 0.00617284, 0.12962963, 0.12962963, 0.16666667,\n",
       "        0.16666667, 0.17901235, 0.17901235, 0.19753086, 0.19753086,\n",
       "        0.20987654, 0.20987654, 0.22222222, 0.22222222, 0.24074074,\n",
       "        0.24074074, 0.25308642, 0.25308642, 0.28395062, 0.28395062,\n",
       "        0.37037037, 0.37037037, 0.37654321, 0.37654321, 0.40123457,\n",
       "        0.40123457, 0.43209877, 0.43209877, 0.4691358 , 0.4691358 ,\n",
       "        0.5       , 0.5       , 0.51851852, 0.51851852, 0.60493827,\n",
       "        0.60493827, 0.61728395, 0.61728395, 0.65432099, 0.65432099,\n",
       "        0.66666667, 0.66666667, 0.67901235, 0.67901235, 0.69753086,\n",
       "        0.69753086, 0.7037037 , 0.7037037 , 0.77160494, 0.77160494,\n",
       "        0.77777778, 0.77777778, 0.7962963 , 0.7962963 , 0.80864198,\n",
       "        0.80864198, 0.81481481, 0.81481481, 0.85185185, 0.85185185,\n",
       "        0.86419753, 0.86419753, 0.87037037, 0.87037037, 0.87654321,\n",
       "        0.87654321, 0.88271605, 0.88271605, 0.88888889, 0.88888889,\n",
       "        0.89506173, 0.89506173, 0.90123457, 0.90123457, 0.91358025,\n",
       "        0.91358025, 0.93209877, 0.93209877, 0.9382716 , 0.9382716 ,\n",
       "        0.94444444, 0.94444444, 0.95679012, 0.95679012, 0.9691358 ,\n",
       "        0.9691358 , 0.97530864, 0.97530864, 0.98148148, 0.98148148,\n",
       "        0.98765432, 0.98765432, 0.99382716, 0.99382716, 1.        ,\n",
       "        1.        ]),\n",
       " array([       inf, 0.99519151, 0.94165083, 0.9406621 , 0.91268294,\n",
       "        0.90668847, 0.90049659, 0.89350466, 0.87385696, 0.87282836,\n",
       "        0.86998283, 0.86921748, 0.86328752, 0.86287711, 0.84598637,\n",
       "        0.84030846, 0.83818286, 0.83725179, 0.81884628, 0.81472218,\n",
       "        0.76534593, 0.76362045, 0.7634624 , 0.75625942, 0.75182239,\n",
       "        0.74814284, 0.74471363, 0.73822035, 0.7257019 , 0.7246149 ,\n",
       "        0.71165907, 0.70582166, 0.700626  , 0.70009816, 0.67201943,\n",
       "        0.66070453, 0.65864824, 0.6582198 , 0.63196035, 0.62743704,\n",
       "        0.62512918, 0.62060488, 0.61616994, 0.60954591, 0.60281048,\n",
       "        0.60241968, 0.6005242 , 0.59475998, 0.54805363, 0.54249415,\n",
       "        0.53710278, 0.53624695, 0.51686026, 0.50520597, 0.50151781,\n",
       "        0.47726048, 0.46748039, 0.46236293, 0.43269001, 0.42451908,\n",
       "        0.42170449, 0.41825641, 0.41799588, 0.41431638, 0.41028861,\n",
       "        0.41015615, 0.39638413, 0.38001475, 0.37078932, 0.37075357,\n",
       "        0.36396283, 0.3613143 , 0.36042001, 0.35839288, 0.35045752,\n",
       "        0.34589353, 0.33988115, 0.3156795 , 0.31484192, 0.31098012,\n",
       "        0.30874034, 0.27918001, 0.27565362, 0.27404089, 0.27091343,\n",
       "        0.27055218, 0.26675009, 0.21012608, 0.20891696, 0.20408932,\n",
       "        0.20051917, 0.20025092, 0.19880743, 0.0999967 , 0.09984443,\n",
       "        0.0317851 ]))"
      ]
     },
     "execution_count": 13,
     "metadata": {},
     "output_type": "execute_result"
    }
   ],
   "source": [
    "fpr, tpr, threshold"
   ]
  },
  {
   "cell_type": "code",
   "execution_count": 14,
   "id": "d79891e4-2a43-4cdd-a701-f40c3db3916a",
   "metadata": {},
   "outputs": [],
   "source": [
    "auc_score = roc_auc_score(y_te, y_prob)"
   ]
  },
  {
   "cell_type": "code",
   "execution_count": 15,
   "id": "06af8ded-a785-4eca-949a-f48afa91edf4",
   "metadata": {},
   "outputs": [
    {
     "data": {
      "text/plain": [
       "np.float64(0.8312757201646089)"
      ]
     },
     "execution_count": 15,
     "metadata": {},
     "output_type": "execute_result"
    }
   ],
   "source": [
    "auc_score"
   ]
  },
  {
   "cell_type": "code",
   "execution_count": 16,
   "id": "8272058a-ceac-45b1-b44f-642c7007b03a",
   "metadata": {},
   "outputs": [
    {
     "data": {
      "image/png": "[encoded data removed]",
      "text/plain": [
       "<Figure size 800x500 with 1 Axes>"
      ]
     },
     "metadata": {},
     "output_type": "display_data"
    }
   ],
   "source": [
    "plt.figure(figsize=(8, 5))\n",
    "plt.plot(fpr, tpr, label=f\"AUC Score {np.round(auc_score, decimals=4)*100}%\")\n",
    "plt.plot([0, 1], [0, 1])\n",
    "plt.title(\"ROC-AUC\")\n",
    "plt.xlabel(\"FPR - False Positive Rate\")\n",
    "plt.ylabel(\"TPR - True Positive Rate\")\n",
    "plt.legend()\n",
    "plt.show()"
   ]
  },
  {
   "cell_type": "code",
   "execution_count": 18,
   "id": "85dd1203-eea9-4072-9bf8-1011698bec87",
   "metadata": {},
   "outputs": [
    {
     "data": {
      "text/plain": [
       "array([0.83818286, 0.05565526, 0.98846046, 0.42170449, 0.81629122,\n",
       "       0.60798716, 0.78058195, 0.15800615, 0.6719508 , 0.33827242,\n",
       "       0.61042928, 0.5970741 , 0.86635267, 0.06824928, 0.90150249,\n",
       "       0.75203695, 0.3156795 , 0.36042001, 0.67206064, 0.28558526,\n",
       "       0.29620423, 0.97695847, 0.83725179, 0.6005242 , 0.76154921,\n",
       "       0.97000687, 0.23483222, 0.41638694, 0.62717937, 0.71740844,\n",
       "       0.62512918, 0.34282024, 0.77360068, 0.33926364, 0.68576276,\n",
       "       0.27815955, 0.0317851 , 0.77099621, 0.17216766, 0.79649512,\n",
       "       0.55008112, 0.38819659, 0.68934176, 0.20408932, 0.73545544,\n",
       "       0.98302381, 0.53624695, 0.20051917, 0.89350466, 0.05866761,\n",
       "       0.11336044, 0.14090799, 0.97167769, 0.10257441, 0.24424196,\n",
       "       0.71798486, 0.39638413, 0.42451908, 0.84030846, 0.13137199,\n",
       "       0.27055218, 0.19596208, 0.74532473, 0.97236373, 0.60281048,\n",
       "       0.79622841, 0.22353684, 0.41015615, 0.43269001, 0.37078932,\n",
       "       0.09743885, 0.64565406, 0.5439067 , 0.17749699, 0.87385696,\n",
       "       0.83940868, 0.43285762, 0.17283155, 0.86287711, 0.16226175,\n",
       "       0.56629209, 0.50198841, 0.09984443, 0.0966114 , 0.46748039,\n",
       "       0.05015905, 0.95465309, 0.04260562, 0.73822035, 0.20891696,\n",
       "       0.87025565, 0.75625942, 0.31098012, 0.55774411, 0.73308711,\n",
       "       0.81884628, 0.11262979, 0.6582198 , 0.99509291, 0.67900685,\n",
       "       0.6565783 , 0.67579298, 0.22652657, 0.86096884, 0.24710209,\n",
       "       0.21170716, 0.67415156, 0.53710278, 0.28541312, 0.41028861,\n",
       "       0.91388608, 0.7634624 , 0.12084415, 0.05878211, 0.64391012,\n",
       "       0.74475943, 0.27091343, 0.84598637, 0.80144958, 0.68194505,\n",
       "       0.61616994, 0.41799588, 0.69332133, 0.76362045, 0.19880743,\n",
       "       0.56816496, 0.63196035, 0.51686026, 0.14692832, 0.2557836 ,\n",
       "       0.78927174, 0.8333243 , 0.59345624, 0.6072055 , 0.82131857,\n",
       "       0.65030722, 0.77586138, 0.35045752, 0.73396817, 0.67866433,\n",
       "       0.91779785, 0.21012608, 0.99519151, 0.723582  , 0.38542939,\n",
       "       0.05149249, 0.700626  , 0.13223636, 0.90049659, 0.35814944,\n",
       "       0.34589353, 0.94165083, 0.67201943, 0.76534593, 0.30679032,\n",
       "       0.57365352, 0.89281976, 0.7246149 , 0.93753646, 0.21284999,\n",
       "       0.83383351, 0.33988115, 0.81395844, 0.24343766, 0.79269907,\n",
       "       0.48505375, 0.70009816, 0.86328752, 0.04575338, 0.17123487,\n",
       "       0.86998283, 0.10778235, 0.69470657, 0.70582166, 0.30874034,\n",
       "       0.68255278, 0.92021363, 0.6026646 , 0.34011263, 0.50151781,\n",
       "       0.7290836 , 0.86921748, 0.51936315, 0.81977865, 0.97920922,\n",
       "       0.75182239, 0.12890383, 0.97954554, 0.54820884, 0.05285397,\n",
       "       0.7257019 , 0.44964426, 0.46404591, 0.50520597, 0.13660114,\n",
       "       0.06165027, 0.33544361, 0.19583921, 0.98389632, 0.85549048,\n",
       "       0.69781234, 0.42322007, 0.44771919, 0.34920285, 0.3613143 ,\n",
       "       0.96046598, 0.12938829, 0.54249415, 0.71146005, 0.48436892,\n",
       "       0.27918001, 0.03895398, 0.2397652 , 0.61716535, 0.09923172,\n",
       "       0.70358759, 0.46201213, 0.1548654 , 0.95608072, 0.66373169,\n",
       "       0.74814284, 0.33451158, 0.90668847, 0.96540024, 0.60954591,\n",
       "       0.26260698, 0.31174133, 0.59475998, 0.37075357, 0.27272914,\n",
       "       0.94459391, 0.88298198, 0.05141075, 0.41825641, 0.70988364,\n",
       "       0.62060488, 0.38660835, 0.47726048, 0.71071996, 0.74471363,\n",
       "       0.27565362, 0.26542451, 0.65864824, 0.56396103, 0.23218743,\n",
       "       0.65891935, 0.78798681, 0.77112631, 0.7542049 , 0.36396283,\n",
       "       0.19102701, 0.41431638, 0.98180372, 0.19188799, 0.11719961,\n",
       "       0.28103152, 0.87282836, 0.71915091, 0.81472218, 0.38001475,\n",
       "       0.65216551, 0.27989296, 0.55661616, 0.31484192, 0.91485252,\n",
       "       0.9834934 , 0.91268294, 0.78670712, 0.54805363, 0.15435541,\n",
       "       0.20025092, 0.73740231, 0.71165907, 0.11989607, 0.15347644,\n",
       "       0.74558368, 0.19277593, 0.52353868, 0.26675009, 0.70479939,\n",
       "       0.95155027, 0.9406621 , 0.63148598, 0.35839288, 0.17929703,\n",
       "       0.66070453, 0.62743704, 0.59416598, 0.27404089, 0.97607967,\n",
       "       0.46236293, 0.22782975, 0.45171743, 0.60241968, 0.75603923,\n",
       "       0.09808896, 0.0999967 , 0.74584711, 0.68442963, 0.04138948])"
      ]
     },
     "execution_count": 18,
     "metadata": {},
     "output_type": "execute_result"
    }
   ],
   "source": [
    "y_prob"
   ]
  },
  {
   "cell_type": "code",
   "execution_count": 19,
   "id": "beb655a7-cae2-4e02-992e-8941133fba7c",
   "metadata": {},
   "outputs": [],
   "source": [
    "y_pr_655_threshold = np.array([0 if i < 0.655 else 1 for i in y_prob])"
   ]
  },
  {
   "cell_type": "code",
   "execution_count": 20,
   "id": "cd7bceeb-9e7c-427a-89e3-e1ec7f0ca7fd",
   "metadata": {},
   "outputs": [
    {
     "data": {
      "text/plain": [
       "array([1, 0, 1, 0, 1, 0, 1, 0, 1, 0, 0, 0, 1, 0, 1, 1, 0, 0, 1, 0, 0, 1,\n",
       "       1, 0, 1, 1, 0, 0, 0, 1, 0, 0, 1, 0, 1, 0, 0, 1, 0, 1, 0, 0, 1, 0,\n",
       "       1, 1, 0, 0, 1, 0, 0, 0, 1, 0, 0, 1, 0, 0, 1, 0, 0, 0, 1, 1, 0, 1,\n",
       "       0, 0, 0, 0, 0, 0, 0, 0, 1, 1, 0, 0, 1, 0, 0, 0, 0, 0, 0, 0, 1, 0,\n",
       "       1, 0, 1, 1, 0, 0, 1, 1, 0, 1, 1, 1, 1, 1, 0, 1, 0, 0, 1, 0, 0, 0,\n",
       "       1, 1, 0, 0, 0, 1, 0, 1, 1, 1, 0, 0, 1, 1, 0, 0, 0, 0, 0, 0, 1, 1,\n",
       "       0, 0, 1, 0, 1, 0, 1, 1, 1, 0, 1, 1, 0, 0, 1, 0, 1, 0, 0, 1, 1, 1,\n",
       "       0, 0, 1, 1, 1, 0, 1, 0, 1, 0, 1, 0, 1, 1, 0, 0, 1, 0, 1, 1, 0, 1,\n",
       "       1, 0, 0, 0, 1, 1, 0, 1, 1, 1, 0, 1, 0, 0, 1, 0, 0, 0, 0, 0, 0, 0,\n",
       "       1, 1, 1, 0, 0, 0, 0, 1, 0, 0, 1, 0, 0, 0, 0, 0, 0, 1, 0, 0, 1, 1,\n",
       "       1, 0, 1, 1, 0, 0, 0, 0, 0, 0, 1, 1, 0, 0, 1, 0, 0, 0, 1, 1, 0, 0,\n",
       "       1, 0, 0, 1, 1, 1, 1, 0, 0, 0, 1, 0, 0, 0, 1, 1, 1, 0, 0, 0, 0, 0,\n",
       "       1, 1, 1, 1, 0, 0, 0, 1, 1, 0, 0, 1, 0, 0, 0, 1, 1, 1, 0, 0, 0, 1,\n",
       "       0, 0, 0, 1, 0, 0, 0, 0, 1, 0, 0, 1, 1, 0])"
      ]
     },
     "execution_count": 20,
     "metadata": {},
     "output_type": "execute_result"
    }
   ],
   "source": [
    "y_pr_655_threshold"
   ]
  },
  {
   "cell_type": "code",
   "execution_count": 21,
   "id": "3d53431c-f843-42da-8831-08adf1972dc6",
   "metadata": {},
   "outputs": [
    {
     "data": {
      "text/plain": [
       "0.7133333333333334"
      ]
     },
     "execution_count": 21,
     "metadata": {},
     "output_type": "execute_result"
    }
   ],
   "source": [
    "accuracy_score(y_te, y_pr_655_threshold)"
   ]
  },
  {
   "cell_type": "code",
   "execution_count": 22,
   "id": "20e86cfc-d35c-40e0-a0f9-5510ff990666",
   "metadata": {},
   "outputs": [
    {
     "name": "stdout",
     "output_type": "stream",
     "text": [
      "              precision    recall  f1-score   support\n",
      "\n",
      "           0       0.65      0.82      0.72       138\n",
      "           1       0.80      0.62      0.70       162\n",
      "\n",
      "    accuracy                           0.71       300\n",
      "   macro avg       0.73      0.72      0.71       300\n",
      "weighted avg       0.73      0.71      0.71       300\n",
      "\n"
     ]
    }
   ],
   "source": [
    "print(classification_report(y_te, y_pr_655_threshold))"
   ]
  },
  {
   "cell_type": "code",
   "execution_count": 24,
   "id": "8208bb85-31c3-470a-a875-73bd91a38f4d",
   "metadata": {},
   "outputs": [
    {
     "ename": "NameError",
     "evalue": "name 'y_pr_67_threshold' is not defined",
     "output_type": "error",
     "traceback": [
      "\u001b[1;31m---------------------------------------------------------------------------\u001b[0m",
      "\u001b[1;31mNameError\u001b[0m                                 Traceback (most recent call last)",
      "Cell \u001b[1;32mIn[24], line 1\u001b[0m\n\u001b[1;32m----> 1\u001b[0m confusion_matrix(y_te, \u001b[43my_pr_67_threshold\u001b[49m)\n",
      "\u001b[1;31mNameError\u001b[0m: name 'y_pr_67_threshold' is not defined"
     ]
    }
   ],
   "source": [
    "confusion_matrix(y_te, y_pr_67_threshold)"
   ]
  },
  {
   "cell_type": "code",
   "execution_count": 25,
   "id": "41ee6522-a41a-40d8-b34f-0bbcb0e1fe7d",
   "metadata": {},
   "outputs": [
    {
     "data": {
      "text/plain": [
       "0.73"
      ]
     },
     "execution_count": 25,
     "metadata": {},
     "output_type": "execute_result"
    }
   ],
   "source": [
    "training_score = model.score(X_tr, y_tr)\n",
    "training_score"
   ]
  },
  {
   "cell_type": "code",
   "execution_count": 26,
   "id": "4e43ab6c-6ff2-44be-824e-d92bdc6f6f51",
   "metadata": {},
   "outputs": [
    {
     "data": {
      "text/plain": [
       "0.77"
      ]
     },
     "execution_count": 26,
     "metadata": {},
     "output_type": "execute_result"
    }
   ],
   "source": [
    "testing_score = accuracy_score(y_te, y_pr)\n",
    "testing_score"
   ]
  },
  {
   "cell_type": "markdown",
   "id": "a739bfbb-8ab8-4b7c-9660-68d6fc267d2a",
   "metadata": {},
   "source": [
    "#cross validation"
   ]
  },
  {
   "cell_type": "code",
   "execution_count": 27,
   "id": "71a4f328-de8b-4029-b4a4-528d7b596287",
   "metadata": {},
   "outputs": [],
   "source": [
    "kf = KFold(n_splits=10)"
   ]
  },
  {
   "cell_type": "code",
   "execution_count": 28,
   "id": "5e152b11-e672-4d8b-b207-e2bc1c1b6914",
   "metadata": {},
   "outputs": [
    {
     "name": "stderr",
     "output_type": "stream",
     "text": [
      "[Parallel(n_jobs=-1)]: Using backend LokyBackend with 4 concurrent workers.\n",
      "[Parallel(n_jobs=-1)]: Done  10 out of  10 | elapsed:    6.8s finished\n"
     ]
    }
   ],
   "source": [
    "cvs = cross_val_score(estimator=LogisticRegression(), X=X_tr, y=y_tr, cv=kf,\n",
    "                     n_jobs=-1, verbose=True, scoring=\"accuracy\")"
   ]
  },
  {
   "cell_type": "code",
   "execution_count": 29,
   "id": "042f8f4c-c1ad-46ed-b2a4-fe0865f01fde",
   "metadata": {},
   "outputs": [
    {
     "data": {
      "text/plain": [
       "array([0.7       , 0.7       , 0.72857143, 0.75714286, 0.82857143,\n",
       "       0.71428571, 0.77142857, 0.58571429, 0.72857143, 0.72857143])"
      ]
     },
     "execution_count": 29,
     "metadata": {},
     "output_type": "execute_result"
    }
   ],
   "source": [
    "cvs"
   ]
  },
  {
   "cell_type": "code",
   "execution_count": 30,
   "id": "f8d84d9b-7f54-4766-9f7c-da9cd2ff5f56",
   "metadata": {},
   "outputs": [],
   "source": [
    "cross_validation_score = cvs.mean()"
   ]
  },
  {
   "cell_type": "code",
   "execution_count": 31,
   "id": "bd64a72b-5465-4d79-8676-fb276a7beada",
   "metadata": {},
   "outputs": [
    {
     "data": {
      "text/plain": [
       "np.float64(0.7242857142857144)"
      ]
     },
     "execution_count": 31,
     "metadata": {},
     "output_type": "execute_result"
    }
   ],
   "source": [
    "cross_validation_score"
   ]
  },
  {
   "cell_type": "code",
   "execution_count": null,
   "id": "37de67d5-c361-4c92-afd7-40c96ba8d8ff",
   "metadata": {},
   "outputs": [],
   "source": []
  }
 ],
 "metadata": {
  "kernelspec": {
   "display_name": "Python 3 (ipykernel)",
   "language": "python",
   "name": "python3"
  },
  "language_info": {
   "codemirror_mode": {
    "name": "ipython",
    "version": 3
   },
   "file_extension": ".py",
   "mimetype": "text/x-python",
   "name": "python",
   "nbconvert_exporter": "python",
   "pygments_lexer": "ipython3",
   "version": "3.12.3"
  }
 },
 "nbformat": 4,
 "nbformat_minor": 5
}
