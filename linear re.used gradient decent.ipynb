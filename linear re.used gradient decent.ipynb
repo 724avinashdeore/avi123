{
 "cells": [
  {
   "cell_type": "code",
   "execution_count": 1,
   "id": "8d8e3a46-b27e-4f54-b6e7-e33a1e200e72",
   "metadata": {},
   "outputs": [],
   "source": [
    "import numpy as np\n",
    "import pandas as pd \n",
    "import matplotlib.pyplot as plt\n",
    "from sklearn.datasets import make_regression\n",
    "from sklearn.linear_model import LinearRegression\n",
    "import seaborn as sns"
   ]
  },
  {
   "cell_type": "code",
   "execution_count": 2,
   "id": "a6885849-779f-4116-8806-3f78c7d49aea",
   "metadata": {},
   "outputs": [],
   "source": [
    "X,y = make_regression(n_samples=20, n_features=1, noise=20)"
   ]
  },
  {
   "cell_type": "code",
   "execution_count": 3,
   "id": "4ed9b11a-f882-42f7-95db-bca8db922deb",
   "metadata": {},
   "outputs": [
    {
     "data": {
      "text/plain": [
       "(array([[-1.26768762],\n",
       "        [-0.34211428],\n",
       "        [ 1.52243643],\n",
       "        [-0.69804273],\n",
       "        [-0.88295098],\n",
       "        [-1.00686887],\n",
       "        [-2.04324897],\n",
       "        [ 1.96385324],\n",
       "        [ 0.64357645],\n",
       "        [ 1.08732701],\n",
       "        [ 1.21412782],\n",
       "        [ 2.17060014],\n",
       "        [ 0.5899614 ],\n",
       "        [ 0.42866607],\n",
       "        [ 0.63168505],\n",
       "        [ 1.46150534],\n",
       "        [-0.34887697],\n",
       "        [ 0.23765565],\n",
       "        [-1.77994727],\n",
       "        [ 0.73562772]]),\n",
       " array([ -59.15794957,  -54.65061832,  107.16875164,  -46.68309904,\n",
       "         -42.9929261 ,  -83.06701965, -125.41980318,  119.32628709,\n",
       "          58.90547977,   65.53420143,  102.21188624,  134.82155429,\n",
       "          55.55650863,   52.86006416,   10.08685856,  101.37620192,\n",
       "          -4.0616977 ,   -4.63384774, -121.27834059,   58.52452483]))"
      ]
     },
     "execution_count": 3,
     "metadata": {},
     "output_type": "execute_result"
    }
   ],
   "source": [
    "X, y"
   ]
  },
  {
   "cell_type": "code",
   "execution_count": 5,
   "id": "e4ce06af-f7a8-45ac-b39d-d1d274d4a283",
   "metadata": {},
   "outputs": [
    {
     "data": {
      "image/png": "[encoded data removed]",
      "text/plain": [
       "<Figure size 800x400 with 1 Axes>"
      ]
     },
     "metadata": {},
     "output_type": "display_data"
    }
   ],
   "source": [
    "plt.figure(figsize=(8,4))\n",
    "plt.scatter(X, y)\n",
    "plt.xlabel(\"Input data\")\n",
    "plt.ylabel(\"Output data\")\n",
    "plt.show()"
   ]
  },
  {
   "cell_type": "code",
   "execution_count": 6,
   "id": "8f091966-5b9d-40d7-a35d-30395a5cbcd2",
   "metadata": {},
   "outputs": [
    {
     "data": {
      "text/plain": [
       "(100, 0.1, 2.43, 9.34)"
      ]
     },
     "execution_count": 6,
     "metadata": {},
     "output_type": "execute_result"
    }
   ],
   "source": [
    "epochs = 100\n",
    "lr = 0.1\n",
    "m = 2.43\n",
    "c = 9.34\n",
    "epochs, lr, m, c\n"
   ]
  },
  {
   "cell_type": "code",
   "execution_count": 7,
   "id": "efec8b29-cb0c-4598-9f69-84cb646b70a9",
   "metadata": {},
   "outputs": [
    {
     "ename": "SyntaxError",
     "evalue": "invalid syntax (2690624174.py, line 10)",
     "output_type": "error",
     "traceback": [
      "\u001b[1;36m  Cell \u001b[1;32mIn[7], line 10\u001b[1;36m\u001b[0m\n\u001b[1;33m    pred m*X.ravel()+c\u001b[0m\n\u001b[1;37m         ^\u001b[0m\n\u001b[1;31mSyntaxError\u001b[0m\u001b[1;31m:\u001b[0m invalid syntax\n"
     ]
    }
   ],
   "source": [
    "pred = m*X.ravel() + c\n",
    "plt.scatter (X, y)\n",
    "plt.plot(X, pred, color=\"black\")\n",
    "for i in range (epochs):\n",
    "    dervative_m = np.mean (-2 *(y - m*X.ravel() - c) *X.ravel())\n",
    "    derivative_c = np.mean (-2 * (y - m*n.ravel() - c ))\n",
    "\n",
    "    m= m -(lr*derivative_m)\n",
    "    c= c -(lr*derivative_m)\n",
    "    pred m*X.ravel()+c\n",
    "    plt.plot (X, pred)\n",
    "plt.show()    "
   ]
  },
  {
   "cell_type": "code",
   "execution_count": null,
   "id": "40136007-5d9c-4ce5-a591-bf24fa8492cf",
   "metadata": {},
   "outputs": [],
   "source": []
  }
 ],
 "metadata": {
  "kernelspec": {
   "display_name": "Python 3 (ipykernel)",
   "language": "python",
   "name": "python3"
  },
  "language_info": {
   "codemirror_mode": {
    "name": "ipython",
    "version": 3
   },
   "file_extension": ".py",
   "mimetype": "text/x-python",
   "name": "python",
   "nbconvert_exporter": "python",
   "pygments_lexer": "ipython3",
   "version": "3.12.3"
  }
 },
 "nbformat": 4,
 "nbformat_minor": 5
}
