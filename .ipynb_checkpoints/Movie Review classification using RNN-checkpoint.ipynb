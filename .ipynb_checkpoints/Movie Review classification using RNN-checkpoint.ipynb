{
 "cells": [
  {
   "cell_type": "code",
   "execution_count": null,
   "id": "d5fd58ce-7f35-4b4c-8f4c-6ca54890cd75",
   "metadata": {},
   "outputs": [],
   "source": [
    "import numpy as np\n",
    "import pandas as pd\n",
    "import tensorflow as tf\n",
    "\n",
    "from tensorflow.keras.preprocessing.text import Tokenizer\n",
    "from tensorflow.keras.preprocessing import sequence\n",
    "from tensorflow.keras.models import Sequential\n",
    "from tensorflow.keras.layers import Embedding, SimpleRNN, Dense"
   ]
  },
  {
   "cell_type": "code",
   "execution_count": null,
   "id": "7539db52-384e-47be-9bac-91e371c7e20f",
   "metadata": {},
   "outputs": [],
   "source": [
    "df = pd.read_excel(r\"\"C:\\Users\\Dell\\Desktop\\python\\movie_reviews (1).xlsx\"\")"
   ]
  },
  {
   "cell_type": "code",
   "execution_count": null,
   "id": "49eec9ba-d3f0-4a1c-8947-cbf77fde93fa",
   "metadata": {},
   "outputs": [],
   "source": [
    "df.head()"
   ]
  },
  {
   "cell_type": "code",
   "execution_count": null,
   "id": "537dd9b6-4d26-4dcb-ab55-8b6b151ef4c9",
   "metadata": {},
   "outputs": [],
   "source": [
    "reviews = df[\"Review\"].to_list()"
   ]
  },
  {
   "cell_type": "code",
   "execution_count": null,
   "id": "d336aef4-9a61-4723-bdf2-e5c5955dc2ed",
   "metadata": {
    "scrolled": true
   },
   "outputs": [],
   "source": [
    "reviews"
   ]
  },
  {
   "cell_type": "code",
   "execution_count": null,
   "id": "3138f777-e2ae-4cff-9f45-6cfb86505e5a",
   "metadata": {},
   "outputs": [],
   "source": [
    "sentiment = df[\"Sentiment\"].tolist()"
   ]
  },
  {
   "cell_type": "code",
   "execution_count": null,
   "id": "ea4b9d99-dc21-4489-8f7f-48684740de66",
   "metadata": {
    "scrolled": true
   },
   "outputs": [],
   "source": [
    "sentiment"
   ]
  },
  {
   "cell_type": "code",
   "execution_count": null,
   "id": "0671642e-a288-456c-bae2-2a70b7cc5ed8",
   "metadata": {},
   "outputs": [],
   "source": [
    "tokens = Tokenizer()"
   ]
  },
  {
   "cell_type": "code",
   "execution_count": null,
   "id": "113e0a2c-cb07-4d3b-8721-cc33281e1ef3",
   "metadata": {
    "scrolled": true
   },
   "outputs": [],
   "source": [
    "tokens.fit_on_texts(reviews)\n",
    "seq = tokens.texts_to_sequences(reviews)\n",
    "seq"
   ]
  },
  {
   "cell_type": "code",
   "execution_count": null,
   "id": "6d93cfa6-6060-4b5d-9ab6-88a38f5b66d3",
   "metadata": {},
   "outputs": [],
   "source": [
    "vocab_size = len(tokens.word_index)+1\n",
    "vocab_size"
   ]
  },
  {
   "cell_type": "code",
   "execution_count": null,
   "id": "e897063d-cf39-4c0f-bbc0-cf755c54fc30",
   "metadata": {},
   "outputs": [],
   "source": [
    "tokens.word_index"
   ]
  },
  {
   "cell_type": "code",
   "execution_count": null,
   "id": "349cb4f3-f912-48d0-9030-7713ba9f351d",
   "metadata": {},
   "outputs": [],
   "source": [
    "max_len = max([len(s) for s in seq])\n",
    "max_len"
   ]
  },
  {
   "cell_type": "code",
   "execution_count": null,
   "id": "b22c985c-4dd9-4a8d-9678-1ca7d781ee10",
   "metadata": {
    "scrolled": true
   },
   "outputs": [],
   "source": [
    "padded_seq = sequence.pad_sequences(seq, maxlen= max_len, padding=\"post\")\n",
    "padded_seq"
   ]
  },
  {
   "cell_type": "code",
   "execution_count": null,
   "id": "87348744-3317-4b31-a65f-e5e207878f44",
   "metadata": {},
   "outputs": [],
   "source": [
    "sent_index = np.array([1 if sent == \"Positive\" else 0 for sent in sentiment])\n",
    "sent_index"
   ]
  },
  {
   "cell_type": "code",
   "execution_count": null,
   "id": "89dc0bf3-93a2-4bc5-9508-04cc6561165b",
   "metadata": {},
   "outputs": [],
   "source": [
    "model = Sequential([\n",
    "    Embedding(vocab_size, 32, input_length = max_len),\n",
    "    SimpleRNN(32),\n",
    "    Dense(1, activation=\"sigmoid\")\n",
    "])"
   ]
  },
  {
   "cell_type": "code",
   "execution_count": null,
   "id": "2bddd282-c422-4ab4-9243-599582698281",
   "metadata": {},
   "outputs": [],
   "source": [
    "model.compile(optimizer=\"adam\", loss=\"binary_crossentropy\",metrics=[\"accuracy\"])"
   ]
  },
  {
   "cell_type": "code",
   "execution_count": null,
   "id": "6cad847f-a9cd-465b-9661-8dc532ff1c73",
   "metadata": {},
   "outputs": [],
   "source": [
    "model.fit(padded_seq, sent_index,epochs=30,verbos=True)"
   ]
  },
  {
   "cell_type": "code",
   "execution_count": null,
   "id": "263dfe46-24dc-4fe0-8f92-4f761848c4af",
   "metadata": {},
   "outputs": [],
   "source": []
  },
  {
   "cell_type": "code",
   "execution_count": null,
   "id": "71106892-a7be-4caa-8835-ee4f791af66c",
   "metadata": {},
   "outputs": [],
   "source": []
  },
  {
   "cell_type": "code",
   "execution_count": null,
   "id": "2083fc25-6eef-4729-b7b9-42de1d504162",
   "metadata": {},
   "outputs": [],
   "source": []
  },
  {
   "cell_type": "code",
   "execution_count": null,
   "id": "5136cfb9-44e6-47c2-9960-ca5a64045a16",
   "metadata": {},
   "outputs": [],
   "source": []
  },
  {
   "cell_type": "code",
   "execution_count": null,
   "id": "22d20083-4bfc-4e2f-a8a8-734f8fd9b427",
   "metadata": {},
   "outputs": [],
   "source": []
  },
  {
   "cell_type": "code",
   "execution_count": null,
   "id": "bb5106b5-5999-4cc9-b500-aa698486b34f",
   "metadata": {},
   "outputs": [],
   "source": []
  }
 ],
 "metadata": {
  "kernelspec": {
   "display_name": "Python 3 (ipykernel)",
   "language": "python",
   "name": "python3"
  },
  "language_info": {
   "codemirror_mode": {
    "name": "ipython",
    "version": 3
   },
   "file_extension": ".py",
   "mimetype": "text/x-python",
   "name": "python",
   "nbconvert_exporter": "python",
   "pygments_lexer": "ipython3",
   "version": "3.12.3"
  }
 },
 "nbformat": 4,
 "nbformat_minor": 5
}
